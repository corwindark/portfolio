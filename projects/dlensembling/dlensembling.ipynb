{
  "cells": [
    {
      "cell_type": "raw",
      "metadata": {},
      "source": [
        "---\n",
        "title: \"Metalearning in Time Series Ensembles\"\n",
        "subtitle: \"Using Deep Learning to Select Statistical Models\"\n",
        "date: \"2023-09-01\"\n",
        "author: \"Corwin Dark\"\n",
        "image: \"image.jpg\"\n",
        "---"
      ],
      "id": "c29b5f44"
    },
    {
      "cell_type": "markdown",
      "metadata": {},
      "source": [
        "![](image.jpg)\n"
      ],
      "id": "e59495e5"
    },
    {
      "cell_type": "code",
      "metadata": {},
      "source": [
        "import yfinance as yf\n",
        "import matplotlib.pyplot as plt\n",
        "import nbformat\n",
        "\n",
        "data = yf.download('SPY','2022-01-01','2023-09-30', interval =\"60m\")\n",
        "\n",
        "data['Adj Close'].plot()\n",
        "plt.ion()\n"
      ],
      "id": "80298250",
      "execution_count": null,
      "outputs": []
    }
  ],
  "metadata": {
    "kernelspec": {
      "name": "python3",
      "language": "python",
      "display_name": "Python 3 (ipykernel)"
    }
  },
  "nbformat": 4,
  "nbformat_minor": 5
}